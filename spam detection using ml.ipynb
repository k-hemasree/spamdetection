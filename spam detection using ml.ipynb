{
 "cells": [
  {
   "cell_type": "code",
   "execution_count": 1,
   "id": "823e42fe",
   "metadata": {},
   "outputs": [
    {
     "name": "stdout",
     "output_type": "stream",
     "text": [
      "Index(['Category', 'Message'], dtype='object')\n",
      "  Category                                            Message\n",
      "0      ham  Go until jurong point, crazy.. Available only ...\n",
      "1      ham                      Ok lar... Joking wif u oni...\n",
      "2     spam  Free entry in 2 a wkly comp to win FA Cup fina...\n",
      "3      ham  U dun say so early hor... U c already then say...\n",
      "4      ham  Nah I don't think he goes to usf, he lives aro...\n",
      "Accuracy: 0.9928251121076234\n",
      "   label                                               text\n",
      "0      0  Go until jurong point, crazy.. Available only ...\n",
      "1      0                      Ok lar... Joking wif u oni...\n",
      "2      1  Free entry in 2 a wkly comp to win FA Cup fina...\n",
      "3      0  U dun say so early hor... U c already then say...\n",
      "4      0  Nah I don't think he goes to usf, he lives aro...\n"
     ]
    }
   ],
   "source": [
    "import pandas as pd\n",
    "from sklearn.feature_extraction.text import CountVectorizer\n",
    "from sklearn.naive_bayes import MultinomialNB\n",
    "from sklearn.model_selection import train_test_split\n",
    "from sklearn.metrics import accuracy_score\n",
    "import joblib\n",
    "import pandas as pd\n",
    "\n",
    "data = pd.read_csv('mail_data.csv', encoding='latin-1')\n",
    "print(data.columns)  # To see actual column names\n",
    "print(data.head())   # To see first few rows and check structure\n",
    "\n",
    "\n",
    "# 1. Load the dataset\n",
    "data = pd.read_csv('mail_data.csv', encoding='latin-1')\n",
    "data = data[['Category', 'Message']]\n",
    "data.columns = ['label', 'text']\n",
    "data['label'] = data['label'].map({'ham': 0, 'spam': 1})\n",
    "\n",
    "# 2. Split into train/test\n",
    "X_train, X_test, y_train, y_test = train_test_split(data['text'], data['label'], test_size=0.2, random_state=42)\n",
    "\n",
    "# 3. Vectorize text\n",
    "vectorizer = CountVectorizer()\n",
    "X_train_vec = vectorizer.fit_transform(X_train)\n",
    "X_test_vec = vectorizer.transform(X_test)\n",
    "\n",
    "# 4. Train classifier\n",
    "clf = MultinomialNB()\n",
    "clf.fit(X_train_vec, y_train)\n",
    "\n",
    "# 5. Evaluate\n",
    "y_pred = clf.predict(X_test_vec)\n",
    "print(\"Accuracy:\", accuracy_score(y_test, y_pred))\n",
    "\n",
    "# 6. Save model + vectorizer\n",
    "joblib.dump(clf, 'classifier_model.joblib')\n",
    "joblib.dump(vectorizer, 'vectorizer.joblib')\n",
    "\n",
    "import pandas as pd\n",
    "\n",
    "# 1. Load your CSV file named 'mail_data.csv' with correct text encoding\n",
    "data = pd.read_csv('mail_data.csv', encoding='latin-1')\n",
    "\n",
    "# 2. Pick only the columns named 'Category' and 'Message' from your dataset\n",
    "data = data[['Category', 'Message']]\n",
    "\n",
    "# 3. Rename these columns to simpler names: 'label' and 'text'\n",
    "data.columns = ['label', 'text']\n",
    "\n",
    "# 4. Convert the labels 'ham' and 'spam' into numbers: ham = 0, spam = 1\n",
    "data['label'] = data['label'].map({'ham': 0, 'spam': 1})\n",
    "\n",
    "# 5. Show the first few rows to check your data\n",
    "print(data.head())\n"
   ]
  },
  {
   "cell_type": "code",
   "execution_count": 4,
   "id": "a77a03f1",
   "metadata": {},
   "outputs": [],
   "source": [
    "import tkinter as tk\n",
    "import joblib\n",
    "\n",
    "classifier = joblib.load('classifier_model.joblib')\n",
    "vectorizer = joblib.load('vectorizer.joblib')\n",
    "\n",
    "def classify_input():\n",
    "    text = entry.get(\"1.0\", tk.END)\n",
    "    vec = vectorizer.transform([text])\n",
    "    pred = classifier.predict(vec)\n",
    "    result = \"Spam\" if pred[0] == 1 else \"Not spam\"\n",
    "    label_result.config(text=result)\n",
    "\n",
    "root = tk.Tk()\n",
    "root.title(\"Spam Classifier\")\n",
    "entry = tk.Text(root, height=6, width=40)\n",
    "entry.pack(pady=10)\n",
    "btn = tk.Button(root, text=\"Check\", command=classify_input)\n",
    "btn.pack(pady=5)\n",
    "label_result = tk.Label(root, text=\"\")\n",
    "label_result.pack(pady=5)\n",
    "root.mainloop()"
   ]
  },
  {
   "cell_type": "code",
   "execution_count": null,
   "id": "d65bc87e",
   "metadata": {},
   "outputs": [],
   "source": []
  }
 ],
 "metadata": {
  "kernelspec": {
   "display_name": "Python 3 (ipykernel)",
   "language": "python",
   "name": "python3"
  },
  "language_info": {
   "codemirror_mode": {
    "name": "ipython",
    "version": 3
   },
   "file_extension": ".py",
   "mimetype": "text/x-python",
   "name": "python",
   "nbconvert_exporter": "python",
   "pygments_lexer": "ipython3",
   "version": "3.9.13"
  }
 },
 "nbformat": 4,
 "nbformat_minor": 5
}
